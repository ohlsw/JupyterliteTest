{
 "cells": [
  {
   "cell_type": "code",
   "execution_count": 1,
   "id": "b0a719e7-b283-4564-b2d2-22fb6021aeea",
   "metadata": {},
   "outputs": [
    {
     "data": {
      "application/vnd.jupyter.widget-view+json": {
       "model_id": "249a17c8abc64c9ab0147fb18c2789bf",
       "version_major": 2,
       "version_minor": 0
      },
      "text/plain": [
       "interactive(children=(FloatSlider(value=1.0, description='Electrical Half-lengths:', layout=Layout(height='50p…"
      ]
     },
     "metadata": {},
     "output_type": "display_data"
    },
    {
     "data": {
      "text/plain": [
       "<function __main__.my_function(x)>"
      ]
     },
     "execution_count": 1,
     "metadata": {},
     "output_type": "execute_result"
    }
   ],
   "source": [
    "#add a slider\n",
    "#L values from 0.1 to 3\n",
    "import numpy as np\n",
    "import matplotlib.pyplot as plt\n",
    "from ipywidgets import interact, FloatSlider, Layout\n",
    "\n",
    "#ignore error\n",
    "np.seterr(divide='ignore', invalid='ignore')\n",
    "\n",
    "#Wavelength\n",
    "lam = 1;\n",
    "#Phase constant\n",
    "B = 2*np.pi/lam;\n",
    "t = np.linspace(0, 2*np.pi, 360);\n",
    "\n",
    "def my_function(x):\n",
    "    #Dipole antenna\n",
    "    L = x*lam;\n",
    "    #Far-field pattern equation    \n",
    "    E = np.abs((np.cos(B*L/2*np.cos(t))-np.cos(B*L/2))/np.sin(t));\n",
    "    #plot figure\n",
    "    fig = plt.figure(figsize=(5, 5))\n",
    "    ax = fig.add_subplot(111, polar=True)\n",
    "    ax.set_rlim(0,3)\n",
    "    ax.set_yticklabels([])\n",
    "    ax.plot(t,E)\n",
    "    plt.show()\n",
    "\n",
    "#create a slider\n",
    "style = {'description_width': 'initial'}          #to fit in the long description\n",
    "interact(my_function, x=FloatSlider(\n",
    "    value=1.0,\n",
    "    min=0.1,\n",
    "    max=3.0,\n",
    "    step=0.01,\n",
    "    description='Electrical Half-lengths:',\n",
    "    style=style,\n",
    "    layout=Layout(width='50%', height='50px')))"
   ]
  },
  {
   "cell_type": "code",
   "execution_count": null,
   "id": "b72a1e10-7f2c-4507-8aa0-ff3ed8feda81",
   "metadata": {},
   "outputs": [],
   "source": []
  }
 ],
 "metadata": {
  "kernelspec": {
   "display_name": "Python 3 (ipykernel)",
   "language": "python",
   "name": "python3"
  },
  "language_info": {
   "codemirror_mode": {
    "name": "ipython",
    "version": 3
   },
   "file_extension": ".py",
   "mimetype": "text/x-python",
   "name": "python",
   "nbconvert_exporter": "python",
   "pygments_lexer": "ipython3",
   "version": "3.12.3"
  }
 },
 "nbformat": 4,
 "nbformat_minor": 5
}
